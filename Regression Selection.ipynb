{
 "cells": [
  {
   "cell_type": "markdown",
   "metadata": {},
   "source": [
    "## Importing Libraries"
   ]
  },
  {
   "cell_type": "code",
   "execution_count": 33,
   "metadata": {},
   "outputs": [],
   "source": [
    "import pandas as pd\n",
    "import numpy as np\n",
    "import matplotlib.pyplot as plt"
   ]
  },
  {
   "cell_type": "markdown",
   "metadata": {},
   "source": [
    "## Importing The Dataset"
   ]
  },
  {
   "cell_type": "code",
   "execution_count": 34,
   "metadata": {},
   "outputs": [],
   "source": [
    "dataset = pd.read_csv('Dataset_Name.csv')\n",
    "X = dataset.iloc[:,:-1].values\n",
    "y = dataset.iloc[:,-1].values"
   ]
  },
  {
   "cell_type": "markdown",
   "metadata": {},
   "source": [
    "## Splitting into Test and Training Sets"
   ]
  },
  {
   "cell_type": "code",
   "execution_count": 35,
   "metadata": {},
   "outputs": [],
   "source": [
    "from sklearn.model_selection import train_test_split\n",
    "X_train,X_test,y_train,y_test = train_test_split(X,y, test_size = 0.2, random_state = 0)"
   ]
  },
  {
   "cell_type": "markdown",
   "metadata": {},
   "source": [
    "## Linear Regression"
   ]
  },
  {
   "cell_type": "code",
   "execution_count": 36,
   "metadata": {},
   "outputs": [
    {
     "name": "stdout",
     "output_type": "stream",
     "text": [
      "93.25315554761303\n"
     ]
    }
   ],
   "source": [
    "from sklearn.linear_model import LinearRegression\n",
    "\n",
    "# Train the Model : \n",
    "\n",
    "linear = LinearRegression()\n",
    "linear.fit(X_train, y_train)\n",
    "\n",
    "# Predict : \n",
    "\n",
    "y_pred_linear = linear.predict(X_test)\n",
    "\n",
    "# See Score : \n",
    "from sklearn.metrics import r2_score\n",
    "r2_linear = r2_score(y_test,y_pred_linear) \n",
    "print(r2_linear*100)"
   ]
  },
  {
   "cell_type": "markdown",
   "metadata": {},
   "source": [
    "## Polynomial Regression"
   ]
  },
  {
   "cell_type": "code",
   "execution_count": 37,
   "metadata": {},
   "outputs": [
    {
     "name": "stdout",
     "output_type": "stream",
     "text": [
      "94.59515586910334\n"
     ]
    }
   ],
   "source": [
    "from sklearn.linear_model import LinearRegression \n",
    "from sklearn.preprocessing import PolynomialFeatures\n",
    "\n",
    "# Train the Model : \n",
    "\n",
    "poly = PolynomialFeatures(degree=6)    #try different degree values for better results\n",
    "X_poly = poly.fit_transform(X_train)\n",
    "\n",
    "linear_reg = LinearRegression()\n",
    "linear_reg.fit(X_poly, y_train)\n",
    "\n",
    "# Predict :\n",
    "\n",
    "y_pred_poly = linear_reg.predict(poly.fit_transform(X_test))\n",
    "\n",
    "# See Score :\n",
    "from sklearn.metrics import r2_score\n",
    "r2_poly = r2_score(y_test, y_pred_poly)\n",
    "print(r2_poly*100)"
   ]
  },
  {
   "cell_type": "markdown",
   "metadata": {},
   "source": [
    "## Decision Tree Regession"
   ]
  },
  {
   "cell_type": "code",
   "execution_count": 38,
   "metadata": {},
   "outputs": [
    {
     "name": "stdout",
     "output_type": "stream",
     "text": [
      "92.26091050550042\n"
     ]
    }
   ],
   "source": [
    "from sklearn.tree import DecisionTreeRegressor\n",
    "\n",
    "# Train the Model :\n",
    "tree = DecisionTreeRegressor(random_state = 0)\n",
    "tree.fit(X_train, y_train)\n",
    "\n",
    "# Predict : \n",
    "y_pred_tree = tree.predict(X_test)\n",
    "\n",
    "# See Score : \n",
    "from sklearn.metrics import r2_score\n",
    "r2_tree = r2_score(y_test, y_pred_tree)\n",
    "print(r2_tree *100)"
   ]
  },
  {
   "cell_type": "markdown",
   "metadata": {},
   "source": [
    "## Random Forest Regression"
   ]
  },
  {
   "cell_type": "code",
   "execution_count": 39,
   "metadata": {},
   "outputs": [
    {
     "name": "stdout",
     "output_type": "stream",
     "text": [
      "96.15980699813016\n"
     ]
    }
   ],
   "source": [
    "from sklearn.ensemble import RandomForestRegressor\n",
    "\n",
    "# Train the Model :\n",
    "regressor_forest = RandomForestRegressor(n_estimators = 10, random_state = 0)\n",
    "regressor_forest.fit(X_train, y_train)\n",
    "\n",
    "# Predict :\n",
    "y_pred_forest = regressor_forest.predict(X_test)\n",
    "\n",
    "# See Score :\n",
    "from sklearn.metrics import r2_score\n",
    "r2_forest = r2_score(y_test, y_pred_forest)\n",
    "print(r2_forest*100)"
   ]
  },
  {
   "cell_type": "markdown",
   "metadata": {},
   "source": [
    "## Support Vector Regression"
   ]
  },
  {
   "cell_type": "code",
   "execution_count": 54,
   "metadata": {},
   "outputs": [
    {
     "name": "stderr",
     "output_type": "stream",
     "text": [
      "C:\\Users\\SHREE\\Anaconda3\\lib\\site-packages\\sklearn\\utils\\validation.py:761: DataConversionWarning: A column-vector y was passed when a 1d array was expected. Please change the shape of y to (n_samples, ), for example using ravel().\n",
      "  y = column_or_1d(y, warn=True)\n"
     ]
    },
    {
     "name": "stdout",
     "output_type": "stream",
     "text": [
      "94.8369330431793\n"
     ]
    }
   ],
   "source": [
    "from sklearn.svm import SVR\n",
    "from sklearn.preprocessing import StandardScaler\n",
    "\n",
    "# Importing Data :\n",
    "dataset = pd.read_csv('Dataset_Name.csv')\n",
    "X = dataset.iloc[:, :-1].values\n",
    "y = dataset.iloc[:, -1].values\n",
    "\n",
    "# Reshaping Data :\n",
    "y = y.reshape(len(y),1)\n",
    "\n",
    "from sklearn.model_selection import train_test_split\n",
    "X_train, X_test, y_train, y_test = train_test_split(X, y, test_size = 0.2, random_state = 0)\n",
    "\n",
    "# Feature Scaling :\n",
    "sc_X = StandardScaler()\n",
    "sc_y = StandardScaler()\n",
    "X_train = sc_X.fit_transform(X_train)\n",
    "y_train = sc_y.fit_transform(y_train)\n",
    "\n",
    "# Train the Model :\n",
    "regressor = SVR(kernel = 'rbf')\n",
    "regressor.fit(X_train, y_train)\n",
    "\n",
    "# Predict :\n",
    "y_pred_support = sc_y.inverse_transform(regressor.predict(sc_X.fit_transform(X_test)))\n",
    "\n",
    "# See Score :\n",
    "from sklearn.metrics import r2_score\n",
    "r2_support = r2_score(y_test, y_pred_support)\n",
    "print(r2_support*100)"
   ]
  },
  {
   "cell_type": "code",
   "execution_count": 58,
   "metadata": {},
   "outputs": [
    {
     "name": "stdout",
     "output_type": "stream",
     "text": [
      "Maximum Accuracy is : 0.9615980699813017 acheived by :  Random Forest Regression\n",
      "\n"
     ]
    }
   ],
   "source": [
    "var = {r2_forest:\"Random Forest Regression\",r2_linear:\"Linear Regression\",r2_poly:\"Polynomial Regression\",r2_support:\"Support Vector Regression\",r2_tree:\"Decision Tree Regession\"}\n",
    "\n",
    "print(\"Maximum Accuracy is :\" , max(var) , \"acheived by : \", var.get(max(var)))"
   ]
  },
  {
   "cell_type": "code",
   "execution_count": null,
   "metadata": {},
   "outputs": [],
   "source": []
  }
 ],
 "metadata": {
  "kernelspec": {
   "display_name": "Python 3",
   "language": "python",
   "name": "python3"
  },
  "language_info": {
   "codemirror_mode": {
    "name": "ipython",
    "version": 3
   },
   "file_extension": ".py",
   "mimetype": "text/x-python",
   "name": "python",
   "nbconvert_exporter": "python",
   "pygments_lexer": "ipython3",
   "version": "3.7.5"
  }
 },
 "nbformat": 4,
 "nbformat_minor": 2
}
